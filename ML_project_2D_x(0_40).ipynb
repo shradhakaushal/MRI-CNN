{
  "nbformat": 4,
  "nbformat_minor": 0,
  "metadata": {
    "colab": {
      "name": "ML_project_2D_z(0-40).ipynb",
      "version": "0.3.2",
      "provenance": [],
      "collapsed_sections": []
    },
    "language_info": {
      "codemirror_mode": {
        "name": "ipython",
        "version": 3
      },
      "file_extension": ".py",
      "mimetype": "text/x-python",
      "name": "python",
      "nbconvert_exporter": "python",
      "pygments_lexer": "ipython3",
      "version": "3.7.1"
    },
    "kernelspec": {
      "name": "python3",
      "display_name": "Python 3"
    },
    "accelerator": "GPU"
  },
  "cells": [
    {
      "metadata": {
        "id": "_gS031i19Rr4",
        "colab_type": "code",
        "outputId": "fb653d94-5d18-4511-d3c6-28a78152465e",
        "colab": {
          "base_uri": "https://localhost:8080/",
          "height": 34
        }
      },
      "cell_type": "code",
      "source": [
        "import cv2\n",
        "import os \n",
        "import matplotlib.pyplot as plt\n",
        "import numpy as np \n",
        "from random import shuffle \n",
        "from tqdm import tqdm \n",
        "from keras.utils import to_categorical\n",
        "import pandas as pd\n",
        "LR = 1e-3\n",
        "IMG_SIZE = 150\n",
        "NUM_LABELS = 2"
      ],
      "execution_count": 1,
      "outputs": [
        {
          "output_type": "stream",
          "text": [
            "Using TensorFlow backend.\n"
          ],
          "name": "stderr"
        }
      ]
    },
    {
      "metadata": {
        "id": "gJ2z-S4G9Rr8",
        "colab_type": "code",
        "outputId": "77abc878-d68e-475c-e3c5-7933fc69e00b",
        "colab": {
          "base_uri": "https://localhost:8080/",
          "height": 199
        }
      },
      "cell_type": "code",
      "source": [
        "labels_df = pd.read_csv('oasis_cross-sectional-200.csv') ## 这里用了新的200 数据 所有有病的都标为1了 \n",
        "labels_df = labels_df.drop(columns=['M/F','Hand','Age','Educ','SES','MMSE','eTIV','nWBV','ASF','Delay'])\n",
        "labels_df = labels_df.fillna(0)\n",
        "labels_df.head()"
      ],
      "execution_count": 2,
      "outputs": [
        {
          "output_type": "execute_result",
          "data": {
            "text/html": [
              "<div>\n",
              "<style scoped>\n",
              "    .dataframe tbody tr th:only-of-type {\n",
              "        vertical-align: middle;\n",
              "    }\n",
              "\n",
              "    .dataframe tbody tr th {\n",
              "        vertical-align: top;\n",
              "    }\n",
              "\n",
              "    .dataframe thead th {\n",
              "        text-align: right;\n",
              "    }\n",
              "</style>\n",
              "<table border=\"1\" class=\"dataframe\">\n",
              "  <thead>\n",
              "    <tr style=\"text-align: right;\">\n",
              "      <th></th>\n",
              "      <th>ID</th>\n",
              "      <th>CDR</th>\n",
              "    </tr>\n",
              "  </thead>\n",
              "  <tbody>\n",
              "    <tr>\n",
              "      <th>0</th>\n",
              "      <td>OAS1_0001_MR1</td>\n",
              "      <td>0</td>\n",
              "    </tr>\n",
              "    <tr>\n",
              "      <th>1</th>\n",
              "      <td>OAS1_0002_MR1</td>\n",
              "      <td>0</td>\n",
              "    </tr>\n",
              "    <tr>\n",
              "      <th>2</th>\n",
              "      <td>OAS1_0003_MR1</td>\n",
              "      <td>1</td>\n",
              "    </tr>\n",
              "    <tr>\n",
              "      <th>3</th>\n",
              "      <td>OAS1_0004_MR1</td>\n",
              "      <td>0</td>\n",
              "    </tr>\n",
              "    <tr>\n",
              "      <th>4</th>\n",
              "      <td>OAS1_0005_MR1</td>\n",
              "      <td>0</td>\n",
              "    </tr>\n",
              "  </tbody>\n",
              "</table>\n",
              "</div>"
            ],
            "text/plain": [
              "              ID  CDR\n",
              "0  OAS1_0001_MR1    0\n",
              "1  OAS1_0002_MR1    0\n",
              "2  OAS1_0003_MR1    1\n",
              "3  OAS1_0004_MR1    0\n",
              "4  OAS1_0005_MR1    0"
            ]
          },
          "metadata": {
            "tags": []
          },
          "execution_count": 2
        }
      ]
    },
    {
      "metadata": {
        "id": "eujhK8p25Q7r",
        "colab_type": "code",
        "outputId": "ca7d6534-f264-4213-e863-b3172aa4b396",
        "colab": {
          "base_uri": "https://localhost:8080/",
          "height": 51
        }
      },
      "cell_type": "code",
      "source": [
        "!unzip masked_gfc_imgs.zip"
      ],
      "execution_count": 0,
      "outputs": [
        {
          "output_type": "stream",
          "text": [
            "Archive:  masked_gfc_imgs.zip\n",
            "replace masked_gfc_imgs/._OAS1_0273_MR1_mpr_n3_anon_111_t88_masked_gfc.hdr? [y]es, [n]o, [A]ll, [N]one, [r]ename: "
          ],
          "name": "stdout"
        }
      ]
    },
    {
      "metadata": {
        "id": "8cbWYZGJ9RsE",
        "colab_type": "code",
        "colab": {}
      },
      "cell_type": "code",
      "source": [
        "TRAIN_DIR = '/content/masked_gfc_imgs'"
      ],
      "execution_count": 0,
      "outputs": []
    },
    {
      "metadata": {
        "id": "mpebEQFh9RsI",
        "colab_type": "code",
        "outputId": "1c3c8ce1-8162-4c20-fa87-c99214cbdfec",
        "colab": {
          "base_uri": "https://localhost:8080/",
          "height": 34
        }
      },
      "cell_type": "code",
      "source": [
        "'''Setting up the model which will help with tensorflow models'''\n",
        "MODEL_NAME = 'Alzheimer-{}-{}.model'.format(LR, '6conv-basic') \n",
        "  \n",
        "'''Labelling the dataset'''\n",
        "\n",
        "\n",
        "training_test_data = [] \n",
        "y_train_test = []\n",
        "for img in tqdm(os.listdir(TRAIN_DIR)):\n",
        "    path = os.path.join(TRAIN_DIR, img)\n",
        "    imgs = np.fromfile(path, dtype=np.int16)\n",
        "    if len(imgs)==6443008:\n",
        "        names = img.split('_mpr')[0]\n",
        "        for i in range(0,200): ## 这里有调整\n",
        "          if list(labels_df['ID'])[i]== names:\n",
        "            imgs = imgs.reshape(176,208,176)\n",
        "            #imgs = cv2.resize(imgs, (IMG_SIZE,IMG_SIZE))\n",
        "            for j in range(0,40):\n",
        "              images = imgs[j,:,:]\n",
        "              image = cv2.resize(images, (IMG_SIZE,IMG_SIZE))\n",
        "              training_test_data.append(np.array(image))\n",
        "              for i in range(0,200):\n",
        "                if list(labels_df['ID'])[i]== names:\n",
        "                    labels = list(labels_df['CDR'])[i]\n",
        "                    y_train_test.append(np.array(labels))\n",
        "            \n",
        "      "
      ],
      "execution_count": 4,
      "outputs": [
        {
          "output_type": "stream",
          "text": [
            "100%|██████████| 437/437 [01:02<00:00,  6.95it/s]\n"
          ],
          "name": "stderr"
        }
      ]
    },
    {
      "metadata": {
        "id": "IER9nXpDCLOj",
        "colab_type": "code",
        "outputId": "dbfd7601-2f5d-4406-d451-31785666906d",
        "colab": {
          "base_uri": "https://localhost:8080/",
          "height": 34
        }
      },
      "cell_type": "code",
      "source": [
        "len(training_test_data)"
      ],
      "execution_count": 5,
      "outputs": [
        {
          "output_type": "execute_result",
          "data": {
            "text/plain": [
              "8000"
            ]
          },
          "metadata": {
            "tags": []
          },
          "execution_count": 5
        }
      ]
    },
    {
      "metadata": {
        "id": "twswheyIXaRp",
        "colab_type": "code",
        "outputId": "271b41bb-8c8b-4ac1-d9b8-501a892157c0",
        "colab": {
          "base_uri": "https://localhost:8080/",
          "height": 34
        }
      },
      "cell_type": "code",
      "source": [
        "y_train = np.asarray(y_train_test[:5000])\n",
        "y_test = np.asarray(y_train_test[5000:])\n",
        "print(y_test.size)"
      ],
      "execution_count": 6,
      "outputs": [
        {
          "output_type": "stream",
          "text": [
            "3000\n"
          ],
          "name": "stdout"
        }
      ]
    },
    {
      "metadata": {
        "id": "kDWAbVyJXgSA",
        "colab_type": "code",
        "outputId": "d8538711-82fb-4e20-e8a3-63d4c8f2b30d",
        "colab": {
          "base_uri": "https://localhost:8080/",
          "height": 102
        }
      },
      "cell_type": "code",
      "source": [
        "x_train = np.asarray(training_test_data[:5000])\n",
        "x_test = np.asarray(training_test_data[5000:])\n",
        "print(x_test.size)\n",
        "print(x_train.size)\n",
        "X_train = x_train.reshape(-1,IMG_SIZE,IMG_SIZE)\n",
        "X_test = x_test.reshape(-1,IMG_SIZE*IMG_SIZE)\n",
        "print(X_test.shape)\n",
        "print(X_train.shape)\n",
        "print(X_train.shape[0])"
      ],
      "execution_count": 7,
      "outputs": [
        {
          "output_type": "stream",
          "text": [
            "67500000\n",
            "112500000\n",
            "(3000, 22500)\n",
            "(5000, 150, 150)\n",
            "5000\n"
          ],
          "name": "stdout"
        }
      ]
    },
    {
      "metadata": {
        "id": "PQyeG6PL_dSJ",
        "colab_type": "code",
        "outputId": "96853d96-4552-4885-fffb-83f6c5d954cc",
        "colab": {
          "base_uri": "https://localhost:8080/",
          "height": 34
        }
      },
      "cell_type": "code",
      "source": [
        "for i in range (5000):\n",
        "    X = X_train[i].reshape(IMG_SIZE,IMG_SIZE)\n",
        "    flip_1 = np.fliplr(X)\n",
        "    X_train = np.append(X_train,flip_1.reshape(-1,IMG_SIZE,IMG_SIZE), axis=0)\n",
        "    \n",
        "\n",
        "print(X_train.shape) \n",
        "\n",
        "np.save('/content/x_2D_balanced_aum_data.npy',  X_train)   \n"
      ],
      "execution_count": 8,
      "outputs": [
        {
          "output_type": "stream",
          "text": [
            "(10000, 150, 150)\n"
          ],
          "name": "stdout"
        }
      ]
    },
    {
      "metadata": {
        "id": "9pa1nO5Jb0Uc",
        "colab_type": "code",
        "outputId": "699b1220-57e1-4c23-ee73-8351c21376b3",
        "colab": {
          "base_uri": "https://localhost:8080/",
          "height": 34
        }
      },
      "cell_type": "code",
      "source": [
        "y_train = np.append(y_train,y_train, axis=0)\n",
        "print(y_train.shape) \n",
        "np.save('/content/y_2D_balanced_aum_data.npy',  y_train)"
      ],
      "execution_count": 9,
      "outputs": [
        {
          "output_type": "stream",
          "text": [
            "(10000,)\n"
          ],
          "name": "stdout"
        }
      ]
    },
    {
      "metadata": {
        "id": "-11dsUTFb9tD",
        "colab_type": "code",
        "outputId": "4b8d1294-36e4-4566-d05c-f4a88ec45af2",
        "colab": {
          "base_uri": "https://localhost:8080/",
          "height": 34
        }
      },
      "cell_type": "code",
      "source": [
        "## Data\n",
        "# one-hot encoding:\n",
        "y_train_OH = to_categorical(y_train, NUM_LABELS)\n",
        "y_test_OH = to_categorical(y_test, NUM_LABELS)\n",
        "print(y_test_OH.shape)"
      ],
      "execution_count": 10,
      "outputs": [
        {
          "output_type": "stream",
          "text": [
            "(3000, 2)\n"
          ],
          "name": "stdout"
        }
      ]
    },
    {
      "metadata": {
        "id": "pViR_93rcBlJ",
        "colab_type": "code",
        "outputId": "bc248651-27a7-49ac-a32b-1d2ec63545cf",
        "colab": {
          "base_uri": "https://localhost:8080/",
          "height": 88
        }
      },
      "cell_type": "code",
      "source": [
        "from keras.layers.core import Dense, Activation, Dropout\n",
        "from keras.models import Sequential\n",
        "model = Sequential()\n",
        "model.add(Dense(128, input_shape=(IMG_SIZE*IMG_SIZE,),activation='relu'))\n",
        "model.add(Dense(2,activation='relu'))\n",
        "model.add(Activation('softmax'))"
      ],
      "execution_count": 11,
      "outputs": [
        {
          "output_type": "stream",
          "text": [
            "WARNING:tensorflow:From /usr/local/lib/python3.6/dist-packages/tensorflow/python/framework/op_def_library.py:263: colocate_with (from tensorflow.python.framework.ops) is deprecated and will be removed in a future version.\n",
            "Instructions for updating:\n",
            "Colocations handled automatically by placer.\n"
          ],
          "name": "stdout"
        }
      ]
    },
    {
      "metadata": {
        "id": "o26JHDsBcQ4W",
        "colab_type": "code",
        "colab": {}
      },
      "cell_type": "code",
      "source": [
        "X_train = X_train.reshape(-1,IMG_SIZE*IMG_SIZE)"
      ],
      "execution_count": 0,
      "outputs": []
    },
    {
      "metadata": {
        "id": "iGTiVP0YcIAC",
        "colab_type": "code",
        "outputId": "e50c0979-8ee6-48bd-c2c9-cf71bb8fe7f5",
        "colab": {
          "base_uri": "https://localhost:8080/",
          "height": 614
        }
      },
      "cell_type": "code",
      "source": [
        "model.compile(loss='categorical_crossentropy', metrics=['accuracy'], optimizer='adam')\n",
        "\n",
        "epochs = 15\n",
        "\n",
        "history = model.fit(X_train, \n",
        "                    y_train_OH, \n",
        "                    epochs=epochs, \n",
        "                    batch_size=256,\n",
        "                    verbose=1,\n",
        "                    validation_data=(X_test, y_test_OH))"
      ],
      "execution_count": 13,
      "outputs": [
        {
          "output_type": "stream",
          "text": [
            "WARNING:tensorflow:From /usr/local/lib/python3.6/dist-packages/tensorflow/python/ops/math_ops.py:3066: to_int32 (from tensorflow.python.ops.math_ops) is deprecated and will be removed in a future version.\n",
            "Instructions for updating:\n",
            "Use tf.cast instead.\n",
            "Train on 10000 samples, validate on 3000 samples\n",
            "Epoch 1/15\n",
            "10000/10000 [==============================] - 2s 208us/step - loss: 4.4773 - acc: 0.5266 - val_loss: 4.7738 - val_acc: 0.4697\n",
            "Epoch 2/15\n",
            "10000/10000 [==============================] - 1s 102us/step - loss: 4.6317 - acc: 0.5183 - val_loss: 4.9725 - val_acc: 0.4767\n",
            "Epoch 3/15\n",
            "10000/10000 [==============================] - 1s 101us/step - loss: 4.5713 - acc: 0.5313 - val_loss: 4.7694 - val_acc: 0.4867\n",
            "Epoch 4/15\n",
            "10000/10000 [==============================] - 1s 102us/step - loss: 4.3451 - acc: 0.5466 - val_loss: 4.5406 - val_acc: 0.4917\n",
            "Epoch 5/15\n",
            "10000/10000 [==============================] - 1s 102us/step - loss: 3.9850 - acc: 0.5493 - val_loss: 4.1486 - val_acc: 0.4913\n",
            "Epoch 6/15\n",
            "10000/10000 [==============================] - 1s 102us/step - loss: 3.7584 - acc: 0.5526 - val_loss: 4.0687 - val_acc: 0.4903\n",
            "Epoch 7/15\n",
            "10000/10000 [==============================] - 1s 102us/step - loss: 3.6399 - acc: 0.5533 - val_loss: 4.0907 - val_acc: 0.4850\n",
            "Epoch 8/15\n",
            "10000/10000 [==============================] - 1s 102us/step - loss: 4.1241 - acc: 0.5316 - val_loss: 4.3904 - val_acc: 0.4857\n",
            "Epoch 9/15\n",
            "10000/10000 [==============================] - 1s 103us/step - loss: 4.1665 - acc: 0.5319 - val_loss: 4.4034 - val_acc: 0.4853\n",
            "Epoch 10/15\n",
            "10000/10000 [==============================] - 1s 101us/step - loss: 4.1595 - acc: 0.5288 - val_loss: 4.0734 - val_acc: 0.4910\n",
            "Epoch 11/15\n",
            "10000/10000 [==============================] - 1s 103us/step - loss: 3.9353 - acc: 0.5323 - val_loss: 3.9686 - val_acc: 0.4893\n",
            "Epoch 12/15\n",
            "10000/10000 [==============================] - 1s 104us/step - loss: 3.8331 - acc: 0.5384 - val_loss: 3.9255 - val_acc: 0.4937\n",
            "Epoch 13/15\n",
            "10000/10000 [==============================] - 1s 102us/step - loss: 3.4776 - acc: 0.5530 - val_loss: 3.5139 - val_acc: 0.5063\n",
            "Epoch 14/15\n",
            "10000/10000 [==============================] - 1s 102us/step - loss: 3.2359 - acc: 0.5616 - val_loss: 3.4267 - val_acc: 0.5093\n",
            "Epoch 15/15\n",
            "10000/10000 [==============================] - 1s 103us/step - loss: 3.2433 - acc: 0.5598 - val_loss: 3.4229 - val_acc: 0.5097\n"
          ],
          "name": "stdout"
        }
      ]
    },
    {
      "metadata": {
        "id": "uR5REG_mca-k",
        "colab_type": "code",
        "outputId": "5be85f19-0d17-41a1-989d-95f94c14ab63",
        "colab": {
          "base_uri": "https://localhost:8080/",
          "height": 577
        }
      },
      "cell_type": "code",
      "source": [
        "# plotting the metrics\n",
        "fig = plt.figure()\n",
        "plt.subplot(2,1,1)\n",
        "plt.plot(history.history['acc'])\n",
        "plt.plot(history.history['val_acc'])\n",
        "plt.title('model accuracy')\n",
        "plt.ylabel('accuracy')\n",
        "plt.xlabel('epoch')\n",
        "plt.legend(['train', 'test'], loc='lower right')\n",
        "\n",
        "plt.subplot(2,1,2)\n",
        "plt.plot(history.history['loss'])\n",
        "plt.plot(history.history['val_loss'])\n",
        "plt.title('model loss')\n",
        "plt.ylabel('loss')\n",
        "plt.xlabel('epoch')\n",
        "plt.legend(['train', 'test'], loc='upper right')\n",
        "\n",
        "plt.tight_layout()\n",
        "\n",
        "fig"
      ],
      "execution_count": 14,
      "outputs": [
        {
          "output_type": "execute_result",
          "data": {
            "image/png": "[encoded data removed]",
            "text/plain": [
              "<Figure size 432x288 with 2 Axes>"
            ]
          },
          "metadata": {
            "tags": []
          },
          "execution_count": 14
        },
        {
          "output_type": "display_data",
          "data": {
            "image/png": "[encoded data removed]",
            "text/plain": [
              "<Figure size 432x288 with 2 Axes>"
            ]
          },
          "metadata": {
            "tags": []
          }
        }
      ]
    },
    {
      "metadata": {
        "id": "_4lNXWVRcgzt",
        "colab_type": "code",
        "outputId": "d832a30b-d1cb-44b9-9000-7320e125595c",
        "colab": {
          "base_uri": "https://localhost:8080/",
          "height": 51
        }
      },
      "cell_type": "code",
      "source": [
        "# reshape to be [samples][pixels][width][height]\n",
        "X_train = X_train.reshape(X_train.shape[0], 1, IMG_SIZE, IMG_SIZE).astype('float32')\n",
        "X_test = X_test.reshape(X_test.shape[0], 1, IMG_SIZE, IMG_SIZE).astype('float32')\n",
        "print(X_train.shape)\n",
        "# normalize inputs from 0-255 to 0-1\n",
        "X_train = X_train / 255\n",
        "X_test = X_test / 255\n",
        "print(X_train.shape)"
      ],
      "execution_count": 16,
      "outputs": [
        {
          "output_type": "stream",
          "text": [
            "(10000, 1, 150, 150)\n",
            "(10000, 1, 150, 150)\n"
          ],
          "name": "stdout"
        }
      ]
    },
    {
      "metadata": {
        "id": "hh4biRrcclye",
        "colab_type": "code",
        "colab": {}
      },
      "cell_type": "code",
      "source": [
        "import numpy\n",
        "from keras.models import Sequential\n",
        "from keras.layers import Dense\n",
        "from keras.layers import Dropout\n",
        "from keras.layers import Flatten\n",
        "from keras.layers.convolutional import Conv2D\n",
        "from keras.layers.convolutional import MaxPooling2D\n",
        "from keras.utils import np_utils\n",
        "from keras import backend as K\n",
        "K.set_image_dim_ordering('th')\n",
        "# fix random seed for reproducibility\n",
        "seed = 42\n",
        "numpy.random.seed(seed)"
      ],
      "execution_count": 0,
      "outputs": []
    },
    {
      "metadata": {
        "id": "cDk0UsvccuHL",
        "colab_type": "code",
        "outputId": "6df4c058-f836-4792-e841-f6298a1dcb5c",
        "colab": {
          "base_uri": "https://localhost:8080/",
          "height": 631
        }
      },
      "cell_type": "code",
      "source": [
        "model = Sequential()\n",
        "  \n",
        "model.add(Conv2D(18, (3, 3), input_shape=(1,IMG_SIZE,IMG_SIZE), activation='relu'))\n",
        "model.add(MaxPooling2D(pool_size=(3, 3)))\n",
        "model.add(Dropout(0.4))    \n",
        "model.add(Conv2D(6, (3, 3), input_shape=(1,IMG_SIZE,IMG_SIZE), activation='relu'))\n",
        "model.add(MaxPooling2D(pool_size=(2, 2)))\n",
        "  \n",
        "model.add(Dropout(0.4))\n",
        "model.add(Flatten())\n",
        "model.add(Dense(32, activation='relu'))\n",
        "model.add(Dropout(0.2))  \n",
        "model.add(Dense(16, activation='relu'))\n",
        "model.add(Dropout(0.2))  \n",
        "model.add(Dense(2, activation='softmax'))\n",
        "  \n",
        "# Compile model\n",
        "model.compile(loss='categorical_crossentropy', optimizer='adam', metrics=['accuracy'])\n",
        "print(model.summary())"
      ],
      "execution_count": 18,
      "outputs": [
        {
          "output_type": "stream",
          "text": [
            "WARNING:tensorflow:From /usr/local/lib/python3.6/dist-packages/keras/backend/tensorflow_backend.py:3445: calling dropout (from tensorflow.python.ops.nn_ops) with keep_prob is deprecated and will be removed in a future version.\n",
            "Instructions for updating:\n",
            "Please use `rate` instead of `keep_prob`. Rate should be set to `rate = 1 - keep_prob`.\n",
            "_________________________________________________________________\n",
            "Layer (type)                 Output Shape              Param #   \n",
            "=================================================================\n",
            "conv2d_1 (Conv2D)            (None, 18, 148, 148)      180       \n",
            "_________________________________________________________________\n",
            "max_pooling2d_1 (MaxPooling2 (None, 18, 49, 49)        0         \n",
            "_________________________________________________________________\n",
            "dropout_1 (Dropout)          (None, 18, 49, 49)        0         \n",
            "_________________________________________________________________\n",
            "conv2d_2 (Conv2D)            (None, 6, 47, 47)         978       \n",
            "_________________________________________________________________\n",
            "max_pooling2d_2 (MaxPooling2 (None, 6, 23, 23)         0         \n",
            "_________________________________________________________________\n",
            "dropout_2 (Dropout)          (None, 6, 23, 23)         0         \n",
            "_________________________________________________________________\n",
            "flatten_1 (Flatten)          (None, 3174)              0         \n",
            "_________________________________________________________________\n",
            "dense_3 (Dense)              (None, 32)                101600    \n",
            "_________________________________________________________________\n",
            "dropout_3 (Dropout)          (None, 32)                0         \n",
            "_________________________________________________________________\n",
            "dense_4 (Dense)              (None, 16)                528       \n",
            "_________________________________________________________________\n",
            "dropout_4 (Dropout)          (None, 16)                0         \n",
            "_________________________________________________________________\n",
            "dense_5 (Dense)              (None, 2)                 34        \n",
            "=================================================================\n",
            "Total params: 103,320\n",
            "Trainable params: 103,320\n",
            "Non-trainable params: 0\n",
            "_________________________________________________________________\n",
            "None\n"
          ],
          "name": "stdout"
        }
      ]
    },
    {
      "metadata": {
        "id": "rWq-A3Joczll",
        "colab_type": "code",
        "outputId": "30feca69-4f0c-4f83-f8ec-1aa303a0b51d",
        "colab": {
          "base_uri": "https://localhost:8080/",
          "height": 3428
        }
      },
      "cell_type": "code",
      "source": [
        "# Fit the model\n",
        "history = model.fit(X_train, y_train_OH, validation_data=(X_test, y_test_OH), epochs=100, batch_size=200)"
      ],
      "execution_count": 19,
      "outputs": [
        {
          "output_type": "stream",
          "text": [
            "Train on 10000 samples, validate on 3000 samples\n",
            "Epoch 1/100\n",
            "10000/10000 [==============================] - 5s 518us/step - loss: 0.6869 - acc: 0.5315 - val_loss: 0.6789 - val_acc: 0.5300\n",
            "Epoch 2/100\n",
            "10000/10000 [==============================] - 3s 302us/step - loss: 0.6401 - acc: 0.6122 - val_loss: 0.6101 - val_acc: 0.6660\n",
            "Epoch 3/100\n",
            "10000/10000 [==============================] - 3s 303us/step - loss: 0.6031 - acc: 0.6593 - val_loss: 0.5926 - val_acc: 0.6807\n",
            "Epoch 4/100\n",
            "10000/10000 [==============================] - 3s 307us/step - loss: 0.5790 - acc: 0.6798 - val_loss: 0.5746 - val_acc: 0.6817\n",
            "Epoch 5/100\n",
            "10000/10000 [==============================] - 3s 313us/step - loss: 0.5765 - acc: 0.6835 - val_loss: 0.5742 - val_acc: 0.6803\n",
            "Epoch 6/100\n",
            "10000/10000 [==============================] - 3s 345us/step - loss: 0.5622 - acc: 0.6913 - val_loss: 0.5747 - val_acc: 0.6790\n",
            "Epoch 7/100\n",
            "10000/10000 [==============================] - 3s 337us/step - loss: 0.5540 - acc: 0.6977 - val_loss: 0.5698 - val_acc: 0.6867\n",
            "Epoch 8/100\n",
            "10000/10000 [==============================] - 3s 332us/step - loss: 0.5514 - acc: 0.6903 - val_loss: 0.5732 - val_acc: 0.6727\n",
            "Epoch 9/100\n",
            "10000/10000 [==============================] - 3s 307us/step - loss: 0.5443 - acc: 0.6995 - val_loss: 0.5687 - val_acc: 0.6767\n",
            "Epoch 10/100\n",
            "10000/10000 [==============================] - 3s 321us/step - loss: 0.5345 - acc: 0.7042 - val_loss: 0.5624 - val_acc: 0.6893\n",
            "Epoch 11/100\n",
            "10000/10000 [==============================] - 3s 325us/step - loss: 0.5262 - acc: 0.7079 - val_loss: 0.5655 - val_acc: 0.6757\n",
            "Epoch 12/100\n",
            "10000/10000 [==============================] - 3s 302us/step - loss: 0.5260 - acc: 0.7066 - val_loss: 0.5735 - val_acc: 0.6767\n",
            "Epoch 13/100\n",
            "10000/10000 [==============================] - 3s 304us/step - loss: 0.5182 - acc: 0.7161 - val_loss: 0.5611 - val_acc: 0.6820\n",
            "Epoch 14/100\n",
            "10000/10000 [==============================] - 3s 298us/step - loss: 0.5176 - acc: 0.7159 - val_loss: 0.5483 - val_acc: 0.6890\n",
            "Epoch 15/100\n",
            "10000/10000 [==============================] - 3s 309us/step - loss: 0.5066 - acc: 0.7235 - val_loss: 0.5606 - val_acc: 0.6820\n",
            "Epoch 16/100\n",
            "10000/10000 [==============================] - 3s 310us/step - loss: 0.5019 - acc: 0.7300 - val_loss: 0.5527 - val_acc: 0.6943\n",
            "Epoch 17/100\n",
            "10000/10000 [==============================] - 3s 310us/step - loss: 0.4998 - acc: 0.7248 - val_loss: 0.5594 - val_acc: 0.6860\n",
            "Epoch 18/100\n",
            "10000/10000 [==============================] - 3s 304us/step - loss: 0.4914 - acc: 0.7360 - val_loss: 0.5551 - val_acc: 0.6923\n",
            "Epoch 19/100\n",
            "10000/10000 [==============================] - 3s 300us/step - loss: 0.4929 - acc: 0.7314 - val_loss: 0.5629 - val_acc: 0.6873\n",
            "Epoch 20/100\n",
            "10000/10000 [==============================] - 3s 301us/step - loss: 0.4827 - acc: 0.7301 - val_loss: 0.5804 - val_acc: 0.6870\n",
            "Epoch 21/100\n",
            "10000/10000 [==============================] - 3s 297us/step - loss: 0.4822 - acc: 0.7388 - val_loss: 0.5671 - val_acc: 0.6847\n",
            "Epoch 22/100\n",
            "10000/10000 [==============================] - 3s 300us/step - loss: 0.4813 - acc: 0.7391 - val_loss: 0.5790 - val_acc: 0.6893\n",
            "Epoch 23/100\n",
            "10000/10000 [==============================] - 3s 301us/step - loss: 0.4763 - acc: 0.7364 - val_loss: 0.5912 - val_acc: 0.6750\n",
            "Epoch 24/100\n",
            "10000/10000 [==============================] - 3s 298us/step - loss: 0.4748 - acc: 0.7369 - val_loss: 0.5544 - val_acc: 0.6967\n",
            "Epoch 25/100\n",
            "10000/10000 [==============================] - 3s 301us/step - loss: 0.4673 - acc: 0.7395 - val_loss: 0.5930 - val_acc: 0.6820\n",
            "Epoch 26/100\n",
            "10000/10000 [==============================] - 3s 300us/step - loss: 0.4645 - acc: 0.7472 - val_loss: 0.5979 - val_acc: 0.6770\n",
            "Epoch 27/100\n",
            "10000/10000 [==============================] - 3s 301us/step - loss: 0.4672 - acc: 0.7411 - val_loss: 0.5778 - val_acc: 0.6873\n",
            "Epoch 28/100\n",
            "10000/10000 [==============================] - 3s 307us/step - loss: 0.4655 - acc: 0.7428 - val_loss: 0.5590 - val_acc: 0.6993\n",
            "Epoch 29/100\n",
            "10000/10000 [==============================] - 3s 304us/step - loss: 0.4604 - acc: 0.7480 - val_loss: 0.5968 - val_acc: 0.6787\n",
            "Epoch 30/100\n",
            "10000/10000 [==============================] - 3s 300us/step - loss: 0.4562 - acc: 0.7534 - val_loss: 0.5975 - val_acc: 0.6783\n",
            "Epoch 31/100\n",
            "10000/10000 [==============================] - 3s 302us/step - loss: 0.4572 - acc: 0.7488 - val_loss: 0.5770 - val_acc: 0.6887\n",
            "Epoch 32/100\n",
            "10000/10000 [==============================] - 3s 307us/step - loss: 0.4529 - acc: 0.7550 - val_loss: 0.6038 - val_acc: 0.6837\n",
            "Epoch 33/100\n",
            "10000/10000 [==============================] - 3s 310us/step - loss: 0.4484 - acc: 0.7614 - val_loss: 0.5858 - val_acc: 0.6880\n",
            "Epoch 34/100\n",
            "10000/10000 [==============================] - 3s 299us/step - loss: 0.4473 - acc: 0.7590 - val_loss: 0.5737 - val_acc: 0.6960\n",
            "Epoch 35/100\n",
            "10000/10000 [==============================] - 3s 302us/step - loss: 0.4475 - acc: 0.7605 - val_loss: 0.6103 - val_acc: 0.6770\n",
            "Epoch 36/100\n",
            "10000/10000 [==============================] - 3s 300us/step - loss: 0.4476 - acc: 0.7553 - val_loss: 0.5981 - val_acc: 0.6850\n",
            "Epoch 37/100\n",
            "10000/10000 [==============================] - 3s 301us/step - loss: 0.4435 - acc: 0.7590 - val_loss: 0.6011 - val_acc: 0.6850\n",
            "Epoch 38/100\n",
            "10000/10000 [==============================] - 3s 300us/step - loss: 0.4368 - acc: 0.7622 - val_loss: 0.5813 - val_acc: 0.6790\n",
            "Epoch 39/100\n",
            "10000/10000 [==============================] - 3s 301us/step - loss: 0.4385 - acc: 0.7648 - val_loss: 0.6023 - val_acc: 0.6833\n",
            "Epoch 40/100\n",
            "10000/10000 [==============================] - 3s 302us/step - loss: 0.4430 - acc: 0.7572 - val_loss: 0.5759 - val_acc: 0.6967\n",
            "Epoch 41/100\n",
            "10000/10000 [==============================] - 3s 309us/step - loss: 0.4420 - acc: 0.7617 - val_loss: 0.5963 - val_acc: 0.6790\n",
            "Epoch 42/100\n",
            "10000/10000 [==============================] - 3s 307us/step - loss: 0.4365 - acc: 0.7624 - val_loss: 0.6077 - val_acc: 0.6817\n",
            "Epoch 43/100\n",
            "10000/10000 [==============================] - 3s 310us/step - loss: 0.4314 - acc: 0.7672 - val_loss: 0.5835 - val_acc: 0.7003\n",
            "Epoch 44/100\n",
            "10000/10000 [==============================] - 3s 306us/step - loss: 0.4289 - acc: 0.7683 - val_loss: 0.6332 - val_acc: 0.6803\n",
            "Epoch 45/100\n",
            "10000/10000 [==============================] - 3s 300us/step - loss: 0.4309 - acc: 0.7626 - val_loss: 0.6040 - val_acc: 0.6840\n",
            "Epoch 46/100\n",
            "10000/10000 [==============================] - 3s 300us/step - loss: 0.4300 - acc: 0.7642 - val_loss: 0.6120 - val_acc: 0.6817\n",
            "Epoch 47/100\n",
            "10000/10000 [==============================] - 3s 301us/step - loss: 0.4267 - acc: 0.7683 - val_loss: 0.6181 - val_acc: 0.6803\n",
            "Epoch 48/100\n",
            "10000/10000 [==============================] - 3s 303us/step - loss: 0.4279 - acc: 0.7713 - val_loss: 0.5804 - val_acc: 0.6967\n",
            "Epoch 49/100\n",
            "10000/10000 [==============================] - 3s 302us/step - loss: 0.4343 - acc: 0.7636 - val_loss: 0.6215 - val_acc: 0.6707\n",
            "Epoch 50/100\n",
            "10000/10000 [==============================] - 3s 299us/step - loss: 0.4275 - acc: 0.7689 - val_loss: 0.6182 - val_acc: 0.6743\n",
            "Epoch 51/100\n",
            "10000/10000 [==============================] - 3s 301us/step - loss: 0.4205 - acc: 0.7731 - val_loss: 0.6387 - val_acc: 0.6743\n",
            "Epoch 52/100\n",
            "10000/10000 [==============================] - 3s 299us/step - loss: 0.4221 - acc: 0.7722 - val_loss: 0.5951 - val_acc: 0.6913\n",
            "Epoch 53/100\n",
            "10000/10000 [==============================] - 3s 300us/step - loss: 0.4198 - acc: 0.7696 - val_loss: 0.6282 - val_acc: 0.6717\n",
            "Epoch 54/100\n",
            "10000/10000 [==============================] - 3s 299us/step - loss: 0.4222 - acc: 0.7710 - val_loss: 0.6115 - val_acc: 0.6847\n",
            "Epoch 55/100\n",
            "10000/10000 [==============================] - 3s 301us/step - loss: 0.4164 - acc: 0.7708 - val_loss: 0.6070 - val_acc: 0.6890\n",
            "Epoch 56/100\n",
            "10000/10000 [==============================] - 3s 301us/step - loss: 0.4174 - acc: 0.7689 - val_loss: 0.6423 - val_acc: 0.6833\n",
            "Epoch 57/100\n",
            "10000/10000 [==============================] - 3s 302us/step - loss: 0.4191 - acc: 0.7693 - val_loss: 0.6485 - val_acc: 0.6703\n",
            "Epoch 58/100\n",
            "10000/10000 [==============================] - 3s 301us/step - loss: 0.4246 - acc: 0.7680 - val_loss: 0.5932 - val_acc: 0.6937\n",
            "Epoch 59/100\n",
            "10000/10000 [==============================] - 3s 303us/step - loss: 0.4214 - acc: 0.7754 - val_loss: 0.6060 - val_acc: 0.6893\n",
            "Epoch 60/100\n",
            "10000/10000 [==============================] - 3s 305us/step - loss: 0.4148 - acc: 0.7781 - val_loss: 0.6022 - val_acc: 0.6893\n",
            "Epoch 61/100\n",
            "10000/10000 [==============================] - 3s 300us/step - loss: 0.4149 - acc: 0.7731 - val_loss: 0.6060 - val_acc: 0.6893\n",
            "Epoch 62/100\n",
            "10000/10000 [==============================] - 3s 310us/step - loss: 0.4190 - acc: 0.7744 - val_loss: 0.6169 - val_acc: 0.6760\n",
            "Epoch 63/100\n",
            "10000/10000 [==============================] - 3s 316us/step - loss: 0.4042 - acc: 0.7819 - val_loss: 0.6127 - val_acc: 0.6850\n",
            "Epoch 64/100\n",
            "10000/10000 [==============================] - 3s 313us/step - loss: 0.4126 - acc: 0.7750 - val_loss: 0.6356 - val_acc: 0.6710\n",
            "Epoch 65/100\n",
            "10000/10000 [==============================] - 3s 304us/step - loss: 0.4124 - acc: 0.7769 - val_loss: 0.6055 - val_acc: 0.6920\n",
            "Epoch 66/100\n",
            "10000/10000 [==============================] - 3s 305us/step - loss: 0.4046 - acc: 0.7774 - val_loss: 0.6217 - val_acc: 0.6880\n",
            "Epoch 67/100\n",
            "10000/10000 [==============================] - 3s 300us/step - loss: 0.4163 - acc: 0.7717 - val_loss: 0.6029 - val_acc: 0.6907\n",
            "Epoch 68/100\n",
            "10000/10000 [==============================] - 3s 310us/step - loss: 0.4113 - acc: 0.7759 - val_loss: 0.6364 - val_acc: 0.6843\n",
            "Epoch 69/100\n",
            "10000/10000 [==============================] - 3s 311us/step - loss: 0.4073 - acc: 0.7786 - val_loss: 0.6034 - val_acc: 0.6957\n",
            "Epoch 70/100\n",
            "10000/10000 [==============================] - 3s 308us/step - loss: 0.4124 - acc: 0.7724 - val_loss: 0.6306 - val_acc: 0.6893\n",
            "Epoch 71/100\n",
            "10000/10000 [==============================] - 3s 303us/step - loss: 0.4037 - acc: 0.7864 - val_loss: 0.6217 - val_acc: 0.6850\n",
            "Epoch 72/100\n",
            "10000/10000 [==============================] - 3s 300us/step - loss: 0.4037 - acc: 0.7769 - val_loss: 0.6408 - val_acc: 0.6827\n",
            "Epoch 73/100\n",
            "10000/10000 [==============================] - 3s 297us/step - loss: 0.4059 - acc: 0.7857 - val_loss: 0.6277 - val_acc: 0.6853\n",
            "Epoch 74/100\n",
            "10000/10000 [==============================] - 3s 299us/step - loss: 0.4003 - acc: 0.7798 - val_loss: 0.6098 - val_acc: 0.6967\n",
            "Epoch 75/100\n",
            "10000/10000 [==============================] - 3s 300us/step - loss: 0.4020 - acc: 0.7861 - val_loss: 0.6453 - val_acc: 0.6847\n",
            "Epoch 76/100\n",
            "10000/10000 [==============================] - 3s 299us/step - loss: 0.4040 - acc: 0.7818 - val_loss: 0.6210 - val_acc: 0.6913\n",
            "Epoch 77/100\n",
            "10000/10000 [==============================] - 3s 301us/step - loss: 0.4002 - acc: 0.7826 - val_loss: 0.6264 - val_acc: 0.6917\n",
            "Epoch 78/100\n",
            "10000/10000 [==============================] - 3s 300us/step - loss: 0.4056 - acc: 0.7795 - val_loss: 0.6039 - val_acc: 0.6977\n",
            "Epoch 79/100\n",
            "10000/10000 [==============================] - 3s 300us/step - loss: 0.4066 - acc: 0.7802 - val_loss: 0.6301 - val_acc: 0.6853\n",
            "Epoch 80/100\n",
            "10000/10000 [==============================] - 3s 302us/step - loss: 0.4063 - acc: 0.7840 - val_loss: 0.6046 - val_acc: 0.6943\n",
            "Epoch 81/100\n",
            "10000/10000 [==============================] - 3s 300us/step - loss: 0.3972 - acc: 0.7846 - val_loss: 0.6162 - val_acc: 0.6913\n",
            "Epoch 82/100\n",
            "10000/10000 [==============================] - 3s 299us/step - loss: 0.3979 - acc: 0.7824 - val_loss: 0.6595 - val_acc: 0.6803\n",
            "Epoch 83/100\n",
            "10000/10000 [==============================] - 3s 301us/step - loss: 0.3938 - acc: 0.7865 - val_loss: 0.6156 - val_acc: 0.6977\n",
            "Epoch 84/100\n",
            "10000/10000 [==============================] - 3s 300us/step - loss: 0.3999 - acc: 0.7837 - val_loss: 0.6046 - val_acc: 0.6973\n",
            "Epoch 85/100\n",
            "10000/10000 [==============================] - 3s 300us/step - loss: 0.3983 - acc: 0.7831 - val_loss: 0.6255 - val_acc: 0.6863\n",
            "Epoch 86/100\n",
            "10000/10000 [==============================] - 3s 303us/step - loss: 0.3970 - acc: 0.7854 - val_loss: 0.6457 - val_acc: 0.6863\n",
            "Epoch 87/100\n",
            "10000/10000 [==============================] - 3s 301us/step - loss: 0.3901 - acc: 0.7888 - val_loss: 0.6244 - val_acc: 0.6907\n",
            "Epoch 88/100\n",
            "10000/10000 [==============================] - 3s 301us/step - loss: 0.3934 - acc: 0.7808 - val_loss: 0.6230 - val_acc: 0.6860\n",
            "Epoch 89/100\n",
            "10000/10000 [==============================] - 3s 301us/step - loss: 0.3883 - acc: 0.7911 - val_loss: 0.6184 - val_acc: 0.6967\n",
            "Epoch 90/100\n",
            "10000/10000 [==============================] - 3s 300us/step - loss: 0.3909 - acc: 0.7862 - val_loss: 0.6263 - val_acc: 0.6980\n",
            "Epoch 91/100\n",
            "10000/10000 [==============================] - 3s 302us/step - loss: 0.3909 - acc: 0.7838 - val_loss: 0.6539 - val_acc: 0.6867\n",
            "Epoch 92/100\n",
            "10000/10000 [==============================] - 3s 299us/step - loss: 0.3839 - acc: 0.7876 - val_loss: 0.6571 - val_acc: 0.6877\n",
            "Epoch 93/100\n",
            "10000/10000 [==============================] - 3s 299us/step - loss: 0.3924 - acc: 0.7847 - val_loss: 0.6399 - val_acc: 0.6883\n",
            "Epoch 94/100\n",
            "10000/10000 [==============================] - 3s 301us/step - loss: 0.3812 - acc: 0.7983 - val_loss: 0.6413 - val_acc: 0.6957\n",
            "Epoch 95/100\n",
            "10000/10000 [==============================] - 3s 303us/step - loss: 0.3926 - acc: 0.7857 - val_loss: 0.6085 - val_acc: 0.6943\n",
            "Epoch 96/100\n",
            "10000/10000 [==============================] - 3s 306us/step - loss: 0.3853 - acc: 0.7899 - val_loss: 0.6239 - val_acc: 0.6913\n",
            "Epoch 97/100\n",
            "10000/10000 [==============================] - 3s 305us/step - loss: 0.3887 - acc: 0.7886 - val_loss: 0.6249 - val_acc: 0.6940\n",
            "Epoch 98/100\n",
            "10000/10000 [==============================] - 3s 301us/step - loss: 0.3992 - acc: 0.7798 - val_loss: 0.6435 - val_acc: 0.6837\n",
            "Epoch 99/100\n",
            "10000/10000 [==============================] - 3s 302us/step - loss: 0.3938 - acc: 0.7859 - val_loss: 0.6385 - val_acc: 0.6967\n",
            "Epoch 100/100\n",
            "10000/10000 [==============================] - 3s 301us/step - loss: 0.3922 - acc: 0.7848 - val_loss: 0.6472 - val_acc: 0.6893\n"
          ],
          "name": "stdout"
        }
      ]
    },
    {
      "metadata": {
        "id": "BMjshwQOc4oa",
        "colab_type": "code",
        "outputId": "1c9c07ec-7f59-4d04-dc50-d5353255c55e",
        "colab": {
          "base_uri": "https://localhost:8080/",
          "height": 577
        }
      },
      "cell_type": "code",
      "source": [
        "# plotting the metrics\n",
        "fig = plt.figure()\n",
        "plt.subplot(2,1,1)\n",
        "plt.plot(history.history['acc'])\n",
        "plt.plot(history.history['val_acc'])\n",
        "plt.title('model accuracy')\n",
        "plt.ylabel('accuracy')\n",
        "plt.xlabel('epoch')\n",
        "plt.legend(['train', 'test'], loc='lower right')\n",
        "\n",
        "plt.subplot(2,1,2)\n",
        "plt.plot(history.history['loss'])\n",
        "plt.plot(history.history['val_loss'])\n",
        "plt.title('model loss')\n",
        "plt.ylabel('loss')\n",
        "plt.xlabel('epoch')\n",
        "plt.legend(['train', 'test'], loc='upper right')\n",
        "\n",
        "plt.tight_layout()\n",
        "\n",
        "fig"
      ],
      "execution_count": 20,
      "outputs": [
        {
          "output_type": "execute_result",
          "data": {
            "image/png": "[encoded data removed]",
            "text/plain": [
              "<Figure size 432x288 with 2 Axes>"
            ]
          },
          "metadata": {
            "tags": []
          },
          "execution_count": 20
        },
        {
          "output_type": "display_data",
          "data": {
            "image/png": "[encoded data removed]",
            "text/plain": [
              "<Figure size 432x288 with 2 Axes>"
            ]
          },
          "metadata": {
            "tags": []
          }
        }
      ]
    },
    {
      "metadata": {
        "id": "DUZTnTWifDNV",
        "colab_type": "code",
        "outputId": "c94af6f2-a201-49ed-ede8-b64c181818e5",
        "colab": {
          "base_uri": "https://localhost:8080/",
          "height": 51
        }
      },
      "cell_type": "code",
      "source": [
        "a,b = 0,0\n",
        "for i in range (len(X_test)):\n",
        "    if model.predict_classes(X_test[i].reshape(1, 1, 150,150))!=y_test[i]:\n",
        "        if y_test[i]==0:\n",
        "            a =a+1\n",
        "        elif y_test[i]==1:\n",
        "            b =b+1\n",
        "        \n",
        "        \n",
        "print(\"mislabeled 0\",a,\"times\") \n",
        "print(\"mislabeled 1\",b,\"times\")"
      ],
      "execution_count": 21,
      "outputs": [
        {
          "output_type": "stream",
          "text": [
            "mislabeled 0 247 times\n",
            "mislabeled 1 685 times\n"
          ],
          "name": "stdout"
        }
      ]
    },
    {
      "metadata": {
        "id": "LFtmcJdTfKe_",
        "colab_type": "code",
        "outputId": "4c37d2a6-7239-4501-e70d-1f20c83c07a1",
        "colab": {
          "base_uri": "https://localhost:8080/",
          "height": 51
        }
      },
      "cell_type": "code",
      "source": [
        "score = model.evaluate(X_test, y_test_OH, verbose=0)\n",
        "print('Test loss:', score[0])\n",
        "print('Test accuracy:', score[1])"
      ],
      "execution_count": 22,
      "outputs": [
        {
          "output_type": "stream",
          "text": [
            "Test loss: 0.647196763386329\n",
            "Test accuracy: 0.6893333333333334\n"
          ],
          "name": "stdout"
        }
      ]
    },
    {
      "metadata": {
        "id": "SctqNe6AOSJw",
        "colab_type": "code",
        "outputId": "c8f0efe0-657a-46cb-c618-41399f69fadf",
        "colab": {
          "base_uri": "https://localhost:8080/",
          "height": 34
        }
      },
      "cell_type": "code",
      "source": [
        "y_train_test = np.append(y_train_test,y_train_test)\n",
        "print(y_train_test.shape) \n",
        "np.save('/content/y_2D_balanced_aum_data.npy',  y_train_test)"
      ],
      "execution_count": 0,
      "outputs": [
        {
          "output_type": "stream",
          "text": [
            "(11600,)\n"
          ],
          "name": "stdout"
        }
      ]
    },
    {
      "metadata": {
        "id": "WRWfPOHd9RsO",
        "colab_type": "code",
        "colab": {}
      },
      "cell_type": "code",
      "source": [
        "y_train_test = np.load('y_2D_balanced_aum_data.npy')\n",
        "training_test_data = np.load('train_test_2D_balanced_aum_data.npy')"
      ],
      "execution_count": 0,
      "outputs": []
    },
    {
      "metadata": {
        "id": "Bro2fQqT9RsT",
        "colab_type": "code",
        "outputId": "294dfdfc-28d9-4fe6-cc49-3a18dabcd267",
        "colab": {
          "base_uri": "https://localhost:8080/",
          "height": 34
        }
      },
      "cell_type": "code",
      "source": [
        "y_train = np.asarray(y_train_test[:7000])\n",
        "y_test = np.asarray(y_train_test[7000:])\n",
        "print(y_test.size)"
      ],
      "execution_count": 0,
      "outputs": [
        {
          "output_type": "stream",
          "text": [
            "4600\n"
          ],
          "name": "stdout"
        }
      ]
    },
    {
      "metadata": {
        "id": "zyFazRV19RsZ",
        "colab_type": "code",
        "outputId": "8b45ec48-87e9-456c-87b9-0be852f6e2f1",
        "colab": {
          "base_uri": "https://localhost:8080/",
          "height": 68
        }
      },
      "cell_type": "code",
      "source": [
        "x_train = np.asarray(training_test_data[:7000])\n",
        "x_test = np.asarray(training_test_data[7000:])\n",
        "print(x_test.size)\n",
        "X_train = x_train.reshape(-1,IMG_SIZE*IMG_SIZE)\n",
        "X_test = x_test.reshape(-1,IMG_SIZE*IMG_SIZE)\n",
        "print(X_test.shape)\n",
        "print(X_train.shape[0])"
      ],
      "execution_count": 0,
      "outputs": [
        {
          "output_type": "stream",
          "text": [
            "103500000\n",
            "(4600, 22500)\n",
            "7000\n"
          ],
          "name": "stdout"
        }
      ]
    },
    {
      "metadata": {
        "scrolled": false,
        "id": "-JSkEYw89Rsd",
        "colab_type": "code",
        "outputId": "291bd77f-1670-43f7-c305-193bfe25cdd4",
        "colab": {
          "base_uri": "https://localhost:8080/",
          "height": 34
        }
      },
      "cell_type": "code",
      "source": [
        "## Data\n",
        "# one-hot encoding:\n",
        "y_train_OH = to_categorical(y_train, NUM_LABELS)\n",
        "y_test_OH = to_categorical(y_test, NUM_LABELS)\n",
        "print(y_test_OH.shape)"
      ],
      "execution_count": 0,
      "outputs": [
        {
          "output_type": "stream",
          "text": [
            "(4600, 2)\n"
          ],
          "name": "stdout"
        }
      ]
    },
    {
      "metadata": {
        "id": "IC3fgf8K9Rsj",
        "colab_type": "code",
        "colab": {}
      },
      "cell_type": "code",
      "source": [
        "from keras.layers.core import Dense, Activation, Dropout\n",
        "from keras.models import Sequential\n",
        "model = Sequential()\n",
        "model.add(Dense(128, input_shape=(IMG_SIZE*IMG_SIZE,),activation='relu'))\n",
        "model.add(Dense(2,activation='relu'))\n",
        "model.add(Activation('softmax'))\n"
      ],
      "execution_count": 0,
      "outputs": []
    },
    {
      "metadata": {
        "scrolled": true,
        "id": "We8Flyle9Rso",
        "colab_type": "code",
        "outputId": "01537b48-bf8b-4c90-c30c-68585c7aa4e5",
        "colab": {
          "base_uri": "https://localhost:8080/",
          "height": 614
        }
      },
      "cell_type": "code",
      "source": [
        "model.compile(loss='categorical_crossentropy', metrics=['accuracy'], optimizer='adam')\n",
        "\n",
        "epochs = 15\n",
        "\n",
        "history = model.fit(X_train, \n",
        "                    y_train_OH, \n",
        "                    epochs=epochs, \n",
        "                    batch_size=256,\n",
        "                    verbose=1,\n",
        "                    validation_data=(X_test, y_test_OH))"
      ],
      "execution_count": 0,
      "outputs": [
        {
          "output_type": "stream",
          "text": [
            "WARNING:tensorflow:From /usr/local/lib/python3.6/dist-packages/tensorflow/python/ops/math_ops.py:3066: to_int32 (from tensorflow.python.ops.math_ops) is deprecated and will be removed in a future version.\n",
            "Instructions for updating:\n",
            "Use tf.cast instead.\n",
            "Train on 7000 samples, validate on 4600 samples\n",
            "Epoch 1/15\n",
            "7000/7000 [==============================] - 5s 670us/step - loss: 3.5455 - acc: 0.4924 - val_loss: 3.6461 - val_acc: 0.4987\n",
            "Epoch 2/15\n",
            "7000/7000 [==============================] - 1s 143us/step - loss: 3.6198 - acc: 0.4900 - val_loss: 3.6235 - val_acc: 0.4961\n",
            "Epoch 3/15\n",
            "7000/7000 [==============================] - 1s 146us/step - loss: 3.6297 - acc: 0.4884 - val_loss: 3.5574 - val_acc: 0.4970\n",
            "Epoch 4/15\n",
            "7000/7000 [==============================] - 1s 145us/step - loss: 3.4255 - acc: 0.4889 - val_loss: 3.3045 - val_acc: 0.5039\n",
            "Epoch 5/15\n",
            "7000/7000 [==============================] - 1s 145us/step - loss: 3.1349 - acc: 0.4961 - val_loss: 3.2378 - val_acc: 0.5052\n",
            "Epoch 6/15\n",
            "7000/7000 [==============================] - 1s 146us/step - loss: 3.0494 - acc: 0.5001 - val_loss: 3.0868 - val_acc: 0.5067\n",
            "Epoch 7/15\n",
            "7000/7000 [==============================] - 1s 147us/step - loss: 2.9052 - acc: 0.5036 - val_loss: 3.0272 - val_acc: 0.5059\n",
            "Epoch 8/15\n",
            "7000/7000 [==============================] - 1s 145us/step - loss: 2.8608 - acc: 0.5047 - val_loss: 2.9686 - val_acc: 0.5078\n",
            "Epoch 9/15\n",
            "7000/7000 [==============================] - 1s 145us/step - loss: 2.8030 - acc: 0.5053 - val_loss: 2.8811 - val_acc: 0.5124\n",
            "Epoch 10/15\n",
            "7000/7000 [==============================] - 1s 145us/step - loss: 2.5756 - acc: 0.5101 - val_loss: 2.7533 - val_acc: 0.5102\n",
            "Epoch 11/15\n",
            "7000/7000 [==============================] - 1s 148us/step - loss: 2.5036 - acc: 0.5111 - val_loss: 2.6703 - val_acc: 0.5059\n",
            "Epoch 12/15\n",
            "7000/7000 [==============================] - 1s 146us/step - loss: 2.5354 - acc: 0.5043 - val_loss: 2.6175 - val_acc: 0.5098\n",
            "Epoch 13/15\n",
            "7000/7000 [==============================] - 1s 144us/step - loss: 2.4279 - acc: 0.5084 - val_loss: 2.5725 - val_acc: 0.5139\n",
            "Epoch 14/15\n",
            "7000/7000 [==============================] - 1s 146us/step - loss: 2.4223 - acc: 0.5080 - val_loss: 2.5729 - val_acc: 0.5133\n",
            "Epoch 15/15\n",
            "7000/7000 [==============================] - 1s 143us/step - loss: 2.4223 - acc: 0.5080 - val_loss: 2.5729 - val_acc: 0.5133\n"
          ],
          "name": "stdout"
        }
      ]
    },
    {
      "metadata": {
        "id": "Z5HJpbvw9Rst",
        "colab_type": "code",
        "outputId": "ef0b5c7e-a4f7-464e-f237-6d91ee1b47f7",
        "colab": {
          "base_uri": "https://localhost:8080/",
          "height": 577
        }
      },
      "cell_type": "code",
      "source": [
        "# plotting the metrics\n",
        "fig = plt.figure()\n",
        "plt.subplot(2,1,1)\n",
        "plt.plot(history.history['acc'])\n",
        "plt.plot(history.history['val_acc'])\n",
        "plt.title('model accuracy')\n",
        "plt.ylabel('accuracy')\n",
        "plt.xlabel('epoch')\n",
        "plt.legend(['train', 'test'], loc='lower right')\n",
        "\n",
        "plt.subplot(2,1,2)\n",
        "plt.plot(history.history['loss'])\n",
        "plt.plot(history.history['val_loss'])\n",
        "plt.title('model loss')\n",
        "plt.ylabel('loss')\n",
        "plt.xlabel('epoch')\n",
        "plt.legend(['train', 'test'], loc='upper right')\n",
        "\n",
        "plt.tight_layout()\n",
        "\n",
        "fig"
      ],
      "execution_count": 0,
      "outputs": [
        {
          "output_type": "execute_result",
          "data": {
            "image/png": "[encoded data removed]",
            "text/plain": [
              "<Figure size 432x288 with 2 Axes>"
            ]
          },
          "metadata": {
            "tags": []
          },
          "execution_count": 98
        },
        {
          "output_type": "display_data",
          "data": {
            "image/png": "[encoded data removed]",
            "text/plain": [
              "<Figure size 432x288 with 2 Axes>"
            ]
          },
          "metadata": {
            "tags": []
          }
        }
      ]
    },
    {
      "metadata": {
        "id": "_JM2mYuB9Rs3",
        "colab_type": "code",
        "outputId": "02fdaa4a-2860-4839-911e-a0f69565273d",
        "colab": {
          "base_uri": "https://localhost:8080/",
          "height": 51
        }
      },
      "cell_type": "code",
      "source": [
        "# reshape to be [samples][pixels][width][height]\n",
        "X_train = X_train.reshape(X_train.shape[0], 1, IMG_SIZE, IMG_SIZE).astype('float32')\n",
        "X_test = X_test.reshape(X_test.shape[0], 1, IMG_SIZE, IMG_SIZE).astype('float32')\n",
        "print(X_train.shape)\n",
        "# normalize inputs from 0-255 to 0-1\n",
        "X_train = X_train / 255\n",
        "X_test = X_test / 255\n",
        "print(X_train.shape)"
      ],
      "execution_count": 0,
      "outputs": [
        {
          "output_type": "stream",
          "text": [
            "(7000, 1, 150, 150)\n",
            "(7000, 1, 150, 150)\n"
          ],
          "name": "stdout"
        }
      ]
    },
    {
      "metadata": {
        "id": "taIyzror9Rs8",
        "colab_type": "code",
        "colab": {}
      },
      "cell_type": "code",
      "source": [
        "import numpy\n",
        "from keras.models import Sequential\n",
        "from keras.layers import Dense\n",
        "from keras.layers import Dropout\n",
        "from keras.layers import Flatten\n",
        "from keras.layers.convolutional import Conv2D\n",
        "from keras.layers.convolutional import MaxPooling2D\n",
        "from keras.utils import np_utils\n",
        "from keras import backend as K\n",
        "K.set_image_dim_ordering('th')\n",
        "# fix random seed for reproducibility\n",
        "seed = 42\n",
        "numpy.random.seed(seed)"
      ],
      "execution_count": 0,
      "outputs": []
    },
    {
      "metadata": {
        "id": "TGwrPvkf9RtA",
        "colab_type": "code",
        "outputId": "4d6048d2-bb88-415c-d392-d973d04006ed",
        "colab": {
          "base_uri": "https://localhost:8080/",
          "height": 631
        }
      },
      "cell_type": "code",
      "source": [
        "model = Sequential()\n",
        "  \n",
        "model.add(Conv2D(18, (3, 3), input_shape=(1,IMG_SIZE,IMG_SIZE), activation='relu'))\n",
        "model.add(MaxPooling2D(pool_size=(3, 3)))\n",
        "model.add(Dropout(0.4))    \n",
        "model.add(Conv2D(6, (3, 3), input_shape=(1,IMG_SIZE,IMG_SIZE), activation='relu'))\n",
        "model.add(MaxPooling2D(pool_size=(2, 2)))\n",
        "  \n",
        "model.add(Dropout(0.4))\n",
        "model.add(Flatten())\n",
        "model.add(Dense(32, activation='relu'))\n",
        "model.add(Dropout(0.2))  \n",
        "model.add(Dense(16, activation='relu'))\n",
        "model.add(Dropout(0.2))  \n",
        "model.add(Dense(2, activation='softmax'))\n",
        "  \n",
        "# Compile model\n",
        "model.compile(loss='categorical_crossentropy', optimizer='adam', metrics=['accuracy'])\n",
        "print(model.summary())"
      ],
      "execution_count": 0,
      "outputs": [
        {
          "output_type": "stream",
          "text": [
            "WARNING:tensorflow:From /usr/local/lib/python3.6/dist-packages/keras/backend/tensorflow_backend.py:3445: calling dropout (from tensorflow.python.ops.nn_ops) with keep_prob is deprecated and will be removed in a future version.\n",
            "Instructions for updating:\n",
            "Please use `rate` instead of `keep_prob`. Rate should be set to `rate = 1 - keep_prob`.\n",
            "_________________________________________________________________\n",
            "Layer (type)                 Output Shape              Param #   \n",
            "=================================================================\n",
            "conv2d_1 (Conv2D)            (None, 18, 148, 148)      180       \n",
            "_________________________________________________________________\n",
            "max_pooling2d_1 (MaxPooling2 (None, 18, 49, 49)        0         \n",
            "_________________________________________________________________\n",
            "dropout_1 (Dropout)          (None, 18, 49, 49)        0         \n",
            "_________________________________________________________________\n",
            "conv2d_2 (Conv2D)            (None, 6, 47, 47)         978       \n",
            "_________________________________________________________________\n",
            "max_pooling2d_2 (MaxPooling2 (None, 6, 23, 23)         0         \n",
            "_________________________________________________________________\n",
            "dropout_2 (Dropout)          (None, 6, 23, 23)         0         \n",
            "_________________________________________________________________\n",
            "flatten_1 (Flatten)          (None, 3174)              0         \n",
            "_________________________________________________________________\n",
            "dense_11 (Dense)             (None, 32)                101600    \n",
            "_________________________________________________________________\n",
            "dropout_3 (Dropout)          (None, 32)                0         \n",
            "_________________________________________________________________\n",
            "dense_12 (Dense)             (None, 16)                528       \n",
            "_________________________________________________________________\n",
            "dropout_4 (Dropout)          (None, 16)                0         \n",
            "_________________________________________________________________\n",
            "dense_13 (Dense)             (None, 2)                 34        \n",
            "=================================================================\n",
            "Total params: 103,320\n",
            "Trainable params: 103,320\n",
            "Non-trainable params: 0\n",
            "_________________________________________________________________\n",
            "None\n"
          ],
          "name": "stdout"
        }
      ]
    },
    {
      "metadata": {
        "id": "H2F2gCbG9RtQ",
        "colab_type": "code",
        "outputId": "ea432f48-fc9b-4011-b3a4-7618d18eec5e",
        "colab": {
          "base_uri": "https://localhost:8080/",
          "height": 3428
        }
      },
      "cell_type": "code",
      "source": [
        "# Fit the model\n",
        "history = model.fit(X_train, y_train_OH, validation_data=(X_test, y_test_OH), epochs=100, batch_size=200)"
      ],
      "execution_count": 0,
      "outputs": [
        {
          "output_type": "stream",
          "text": [
            "Train on 7000 samples, validate on 4600 samples\n",
            "Epoch 1/100\n",
            "7000/7000 [==============================] - 7s 954us/step - loss: 0.8442 - acc: 0.5004 - val_loss: 0.6929 - val_acc: 0.5083\n",
            "Epoch 2/100\n",
            "7000/7000 [==============================] - 4s 528us/step - loss: 0.7022 - acc: 0.5043 - val_loss: 0.6930 - val_acc: 0.5139\n",
            "Epoch 3/100\n",
            "7000/7000 [==============================] - 4s 527us/step - loss: 0.6982 - acc: 0.4996 - val_loss: 0.6930 - val_acc: 0.4987\n",
            "Epoch 4/100\n",
            "7000/7000 [==============================] - 4s 526us/step - loss: 0.6986 - acc: 0.5021 - val_loss: 0.6931 - val_acc: 0.4937\n",
            "Epoch 5/100\n",
            "7000/7000 [==============================] - 4s 526us/step - loss: 0.6941 - acc: 0.5067 - val_loss: 0.6929 - val_acc: 0.4957\n",
            "Epoch 6/100\n",
            "7000/7000 [==============================] - 4s 527us/step - loss: 0.6950 - acc: 0.5050 - val_loss: 0.6932 - val_acc: 0.4946\n",
            "Epoch 7/100\n",
            "7000/7000 [==============================] - 4s 524us/step - loss: 0.6952 - acc: 0.5046 - val_loss: 0.6932 - val_acc: 0.4930\n",
            "Epoch 8/100\n",
            "7000/7000 [==============================] - 4s 526us/step - loss: 0.6944 - acc: 0.5066 - val_loss: 0.6934 - val_acc: 0.4917\n",
            "Epoch 9/100\n",
            "7000/7000 [==============================] - 4s 526us/step - loss: 0.6945 - acc: 0.5084 - val_loss: 0.6932 - val_acc: 0.4909\n",
            "Epoch 10/100\n",
            "7000/7000 [==============================] - 4s 526us/step - loss: 0.6944 - acc: 0.5017 - val_loss: 0.6933 - val_acc: 0.4917\n",
            "Epoch 11/100\n",
            "7000/7000 [==============================] - 4s 528us/step - loss: 0.6942 - acc: 0.5044 - val_loss: 0.6933 - val_acc: 0.4917\n",
            "Epoch 12/100\n",
            "7000/7000 [==============================] - 4s 526us/step - loss: 0.6939 - acc: 0.5031 - val_loss: 0.6933 - val_acc: 0.4917\n",
            "Epoch 13/100\n",
            "7000/7000 [==============================] - 4s 526us/step - loss: 0.6935 - acc: 0.5011 - val_loss: 0.6934 - val_acc: 0.4917\n",
            "Epoch 14/100\n",
            "7000/7000 [==============================] - 4s 524us/step - loss: 0.6942 - acc: 0.5061 - val_loss: 0.6934 - val_acc: 0.4917\n",
            "Epoch 15/100\n",
            "7000/7000 [==============================] - 4s 525us/step - loss: 0.6946 - acc: 0.5020 - val_loss: 0.6933 - val_acc: 0.4917\n",
            "Epoch 16/100\n",
            "7000/7000 [==============================] - 4s 528us/step - loss: 0.6929 - acc: 0.5069 - val_loss: 0.6935 - val_acc: 0.4917\n",
            "Epoch 17/100\n",
            "7000/7000 [==============================] - 4s 531us/step - loss: 0.6933 - acc: 0.5083 - val_loss: 0.6934 - val_acc: 0.4922\n",
            "Epoch 18/100\n",
            "7000/7000 [==============================] - 4s 530us/step - loss: 0.6933 - acc: 0.5081 - val_loss: 0.6932 - val_acc: 0.4911\n",
            "Epoch 19/100\n",
            "7000/7000 [==============================] - 4s 528us/step - loss: 0.6929 - acc: 0.5083 - val_loss: 0.6934 - val_acc: 0.4917\n",
            "Epoch 20/100\n",
            "7000/7000 [==============================] - 4s 525us/step - loss: 0.6939 - acc: 0.5066 - val_loss: 0.6932 - val_acc: 0.4961\n",
            "Epoch 21/100\n",
            "7000/7000 [==============================] - 4s 526us/step - loss: 0.6928 - acc: 0.5154 - val_loss: 0.6933 - val_acc: 0.4922\n",
            "Epoch 22/100\n",
            "7000/7000 [==============================] - 4s 529us/step - loss: 0.6930 - acc: 0.5107 - val_loss: 0.6933 - val_acc: 0.4922\n",
            "Epoch 23/100\n",
            "7000/7000 [==============================] - 4s 532us/step - loss: 0.6922 - acc: 0.5237 - val_loss: 0.6930 - val_acc: 0.5035\n",
            "Epoch 24/100\n",
            "7000/7000 [==============================] - 4s 527us/step - loss: 0.6916 - acc: 0.5176 - val_loss: 0.6934 - val_acc: 0.4976\n",
            "Epoch 25/100\n",
            "7000/7000 [==============================] - 4s 531us/step - loss: 0.6880 - acc: 0.5221 - val_loss: 0.6931 - val_acc: 0.5026\n",
            "Epoch 26/100\n",
            "7000/7000 [==============================] - 4s 531us/step - loss: 0.6835 - acc: 0.5384 - val_loss: 0.6879 - val_acc: 0.5463\n",
            "Epoch 27/100\n",
            "7000/7000 [==============================] - 4s 530us/step - loss: 0.6826 - acc: 0.5370 - val_loss: 0.6896 - val_acc: 0.5304\n",
            "Epoch 28/100\n",
            "7000/7000 [==============================] - 4s 537us/step - loss: 0.6772 - acc: 0.5379 - val_loss: 0.6755 - val_acc: 0.5602\n",
            "Epoch 29/100\n",
            "7000/7000 [==============================] - 4s 535us/step - loss: 0.6793 - acc: 0.5517 - val_loss: 0.6872 - val_acc: 0.5378\n",
            "Epoch 30/100\n",
            "7000/7000 [==============================] - 4s 534us/step - loss: 0.6727 - acc: 0.5534 - val_loss: 0.6708 - val_acc: 0.5654\n",
            "Epoch 31/100\n",
            "7000/7000 [==============================] - 4s 532us/step - loss: 0.6668 - acc: 0.5630 - val_loss: 0.6691 - val_acc: 0.5683\n",
            "Epoch 32/100\n",
            "7000/7000 [==============================] - 4s 531us/step - loss: 0.6670 - acc: 0.5557 - val_loss: 0.6699 - val_acc: 0.5715\n",
            "Epoch 33/100\n",
            "7000/7000 [==============================] - 4s 532us/step - loss: 0.6603 - acc: 0.5724 - val_loss: 0.6660 - val_acc: 0.5702\n",
            "Epoch 34/100\n",
            "7000/7000 [==============================] - 4s 528us/step - loss: 0.6630 - acc: 0.5667 - val_loss: 0.6593 - val_acc: 0.5704\n",
            "Epoch 35/100\n",
            "7000/7000 [==============================] - 4s 533us/step - loss: 0.6656 - acc: 0.5650 - val_loss: 0.6727 - val_acc: 0.5670\n",
            "Epoch 36/100\n",
            "7000/7000 [==============================] - 4s 530us/step - loss: 0.6593 - acc: 0.5696 - val_loss: 0.6541 - val_acc: 0.5717\n",
            "Epoch 37/100\n",
            "7000/7000 [==============================] - 4s 527us/step - loss: 0.6570 - acc: 0.5760 - val_loss: 0.6547 - val_acc: 0.5698\n",
            "Epoch 38/100\n",
            "7000/7000 [==============================] - 4s 531us/step - loss: 0.6614 - acc: 0.5687 - val_loss: 0.6628 - val_acc: 0.5717\n",
            "Epoch 39/100\n",
            "7000/7000 [==============================] - 4s 529us/step - loss: 0.6546 - acc: 0.5809 - val_loss: 0.6534 - val_acc: 0.5770\n",
            "Epoch 40/100\n",
            "7000/7000 [==============================] - 4s 528us/step - loss: 0.6569 - acc: 0.5766 - val_loss: 0.6612 - val_acc: 0.5765\n",
            "Epoch 41/100\n",
            "7000/7000 [==============================] - 4s 527us/step - loss: 0.6581 - acc: 0.5740 - val_loss: 0.6617 - val_acc: 0.5750\n",
            "Epoch 42/100\n",
            "7000/7000 [==============================] - 4s 532us/step - loss: 0.6557 - acc: 0.5720 - val_loss: 0.6588 - val_acc: 0.5741\n",
            "Epoch 43/100\n",
            "7000/7000 [==============================] - 4s 529us/step - loss: 0.6468 - acc: 0.5811 - val_loss: 0.6507 - val_acc: 0.5759\n",
            "Epoch 44/100\n",
            "7000/7000 [==============================] - 4s 530us/step - loss: 0.6500 - acc: 0.5800 - val_loss: 0.6542 - val_acc: 0.5752\n",
            "Epoch 45/100\n",
            "7000/7000 [==============================] - 4s 531us/step - loss: 0.6501 - acc: 0.5829 - val_loss: 0.6549 - val_acc: 0.5765\n",
            "Epoch 46/100\n",
            "7000/7000 [==============================] - 4s 528us/step - loss: 0.6460 - acc: 0.5866 - val_loss: 0.6540 - val_acc: 0.5770\n",
            "Epoch 47/100\n",
            "7000/7000 [==============================] - 4s 526us/step - loss: 0.6495 - acc: 0.5754 - val_loss: 0.6652 - val_acc: 0.5683\n",
            "Epoch 48/100\n",
            "7000/7000 [==============================] - 4s 529us/step - loss: 0.6496 - acc: 0.5796 - val_loss: 0.6550 - val_acc: 0.5752\n",
            "Epoch 49/100\n",
            "7000/7000 [==============================] - 4s 530us/step - loss: 0.6439 - acc: 0.5827 - val_loss: 0.6553 - val_acc: 0.5720\n",
            "Epoch 50/100\n",
            "7000/7000 [==============================] - 4s 530us/step - loss: 0.6449 - acc: 0.5834 - val_loss: 0.6532 - val_acc: 0.5750\n",
            "Epoch 51/100\n",
            "7000/7000 [==============================] - 4s 530us/step - loss: 0.6503 - acc: 0.5827 - val_loss: 0.6516 - val_acc: 0.5750\n",
            "Epoch 52/100\n",
            "7000/7000 [==============================] - 4s 529us/step - loss: 0.6436 - acc: 0.5847 - val_loss: 0.6487 - val_acc: 0.5763\n",
            "Epoch 53/100\n",
            "7000/7000 [==============================] - 4s 532us/step - loss: 0.6437 - acc: 0.5831 - val_loss: 0.6488 - val_acc: 0.5763\n",
            "Epoch 54/100\n",
            "7000/7000 [==============================] - 4s 528us/step - loss: 0.6460 - acc: 0.5774 - val_loss: 0.6550 - val_acc: 0.5724\n",
            "Epoch 55/100\n",
            "7000/7000 [==============================] - 4s 528us/step - loss: 0.6427 - acc: 0.5816 - val_loss: 0.6540 - val_acc: 0.5746\n",
            "Epoch 56/100\n",
            "7000/7000 [==============================] - 4s 523us/step - loss: 0.6425 - acc: 0.5857 - val_loss: 0.6495 - val_acc: 0.5789\n",
            "Epoch 57/100\n",
            "7000/7000 [==============================] - 4s 526us/step - loss: 0.6387 - acc: 0.5860 - val_loss: 0.6475 - val_acc: 0.5770\n",
            "Epoch 58/100\n",
            "7000/7000 [==============================] - 4s 526us/step - loss: 0.6404 - acc: 0.5886 - val_loss: 0.6551 - val_acc: 0.5778\n",
            "Epoch 59/100\n",
            "7000/7000 [==============================] - 4s 529us/step - loss: 0.6417 - acc: 0.5853 - val_loss: 0.6503 - val_acc: 0.5754\n",
            "Epoch 60/100\n",
            "7000/7000 [==============================] - 4s 527us/step - loss: 0.6406 - acc: 0.5863 - val_loss: 0.6507 - val_acc: 0.5737\n",
            "Epoch 61/100\n",
            "7000/7000 [==============================] - 4s 529us/step - loss: 0.6370 - acc: 0.5891 - val_loss: 0.6507 - val_acc: 0.5735\n",
            "Epoch 62/100\n",
            "7000/7000 [==============================] - 4s 527us/step - loss: 0.6440 - acc: 0.5816 - val_loss: 0.6556 - val_acc: 0.5746\n",
            "Epoch 63/100\n",
            "7000/7000 [==============================] - 4s 528us/step - loss: 0.6383 - acc: 0.5844 - val_loss: 0.6527 - val_acc: 0.5746\n",
            "Epoch 64/100\n",
            "7000/7000 [==============================] - 4s 526us/step - loss: 0.6420 - acc: 0.5943 - val_loss: 0.6462 - val_acc: 0.5757\n",
            "Epoch 65/100\n",
            "7000/7000 [==============================] - 4s 529us/step - loss: 0.6413 - acc: 0.5921 - val_loss: 0.6498 - val_acc: 0.5763\n",
            "Epoch 66/100\n",
            "7000/7000 [==============================] - 4s 530us/step - loss: 0.6398 - acc: 0.5981 - val_loss: 0.6524 - val_acc: 0.5752\n",
            "Epoch 67/100\n",
            "7000/7000 [==============================] - 4s 528us/step - loss: 0.6354 - acc: 0.5960 - val_loss: 0.6519 - val_acc: 0.5743\n",
            "Epoch 68/100\n",
            "7000/7000 [==============================] - 4s 528us/step - loss: 0.6339 - acc: 0.5899 - val_loss: 0.6549 - val_acc: 0.5711\n",
            "Epoch 69/100\n",
            "7000/7000 [==============================] - 4s 529us/step - loss: 0.6356 - acc: 0.5904 - val_loss: 0.6453 - val_acc: 0.5741\n",
            "Epoch 70/100\n",
            "7000/7000 [==============================] - 4s 527us/step - loss: 0.6362 - acc: 0.5860 - val_loss: 0.6490 - val_acc: 0.5743\n",
            "Epoch 71/100\n",
            "7000/7000 [==============================] - 4s 525us/step - loss: 0.6394 - acc: 0.5907 - val_loss: 0.6512 - val_acc: 0.5761\n",
            "Epoch 72/100\n",
            "7000/7000 [==============================] - 4s 529us/step - loss: 0.6344 - acc: 0.5959 - val_loss: 0.6511 - val_acc: 0.5737\n",
            "Epoch 73/100\n",
            "7000/7000 [==============================] - 4s 528us/step - loss: 0.6344 - acc: 0.5869 - val_loss: 0.6476 - val_acc: 0.5759\n",
            "Epoch 74/100\n",
            "7000/7000 [==============================] - 4s 528us/step - loss: 0.6342 - acc: 0.5910 - val_loss: 0.6522 - val_acc: 0.5724\n",
            "Epoch 75/100\n",
            "7000/7000 [==============================] - 4s 530us/step - loss: 0.6344 - acc: 0.5917 - val_loss: 0.6478 - val_acc: 0.5752\n",
            "Epoch 76/100\n",
            "7000/7000 [==============================] - 4s 529us/step - loss: 0.6332 - acc: 0.5916 - val_loss: 0.6570 - val_acc: 0.5707\n",
            "Epoch 77/100\n",
            "7000/7000 [==============================] - 4s 528us/step - loss: 0.6332 - acc: 0.6007 - val_loss: 0.6490 - val_acc: 0.5748\n",
            "Epoch 78/100\n",
            "7000/7000 [==============================] - 4s 528us/step - loss: 0.6370 - acc: 0.5827 - val_loss: 0.6479 - val_acc: 0.5752\n",
            "Epoch 79/100\n",
            "7000/7000 [==============================] - 4s 527us/step - loss: 0.6310 - acc: 0.5893 - val_loss: 0.6522 - val_acc: 0.5741\n",
            "Epoch 80/100\n",
            "7000/7000 [==============================] - 4s 526us/step - loss: 0.6333 - acc: 0.5919 - val_loss: 0.6466 - val_acc: 0.5757\n",
            "Epoch 81/100\n",
            "7000/7000 [==============================] - 4s 528us/step - loss: 0.6322 - acc: 0.5907 - val_loss: 0.6493 - val_acc: 0.5759\n",
            "Epoch 82/100\n",
            "7000/7000 [==============================] - 4s 527us/step - loss: 0.6356 - acc: 0.5881 - val_loss: 0.6518 - val_acc: 0.5720\n",
            "Epoch 83/100\n",
            "7000/7000 [==============================] - 4s 527us/step - loss: 0.6333 - acc: 0.5960 - val_loss: 0.6456 - val_acc: 0.5746\n",
            "Epoch 84/100\n",
            "7000/7000 [==============================] - 4s 526us/step - loss: 0.6254 - acc: 0.5940 - val_loss: 0.6476 - val_acc: 0.5757\n",
            "Epoch 85/100\n",
            "7000/7000 [==============================] - 4s 529us/step - loss: 0.6313 - acc: 0.5930 - val_loss: 0.6477 - val_acc: 0.5746\n",
            "Epoch 86/100\n",
            "7000/7000 [==============================] - 4s 529us/step - loss: 0.6326 - acc: 0.5917 - val_loss: 0.6515 - val_acc: 0.5733\n",
            "Epoch 87/100\n",
            "7000/7000 [==============================] - 4s 528us/step - loss: 0.6301 - acc: 0.5920 - val_loss: 0.6488 - val_acc: 0.5746\n",
            "Epoch 88/100\n",
            "7000/7000 [==============================] - 4s 526us/step - loss: 0.6281 - acc: 0.5924 - val_loss: 0.6475 - val_acc: 0.5750\n",
            "Epoch 89/100\n",
            "7000/7000 [==============================] - 4s 526us/step - loss: 0.6295 - acc: 0.5901 - val_loss: 0.6480 - val_acc: 0.5757\n",
            "Epoch 90/100\n",
            "7000/7000 [==============================] - 4s 527us/step - loss: 0.6287 - acc: 0.5909 - val_loss: 0.6549 - val_acc: 0.5698\n",
            "Epoch 91/100\n",
            "7000/7000 [==============================] - 4s 526us/step - loss: 0.6304 - acc: 0.5873 - val_loss: 0.6520 - val_acc: 0.5739\n",
            "Epoch 92/100\n",
            "7000/7000 [==============================] - 4s 529us/step - loss: 0.6273 - acc: 0.5946 - val_loss: 0.6511 - val_acc: 0.5759\n",
            "Epoch 93/100\n",
            "7000/7000 [==============================] - 4s 527us/step - loss: 0.6304 - acc: 0.5929 - val_loss: 0.6492 - val_acc: 0.5737\n",
            "Epoch 94/100\n",
            "7000/7000 [==============================] - 4s 528us/step - loss: 0.6271 - acc: 0.5937 - val_loss: 0.6552 - val_acc: 0.5715\n",
            "Epoch 95/100\n",
            "7000/7000 [==============================] - 4s 529us/step - loss: 0.6271 - acc: 0.5944 - val_loss: 0.6494 - val_acc: 0.5739\n",
            "Epoch 96/100\n",
            "7000/7000 [==============================] - 4s 527us/step - loss: 0.6289 - acc: 0.5987 - val_loss: 0.6491 - val_acc: 0.5726\n",
            "Epoch 97/100\n",
            "7000/7000 [==============================] - 4s 526us/step - loss: 0.6228 - acc: 0.5927 - val_loss: 0.6524 - val_acc: 0.5693\n",
            "Epoch 98/100\n",
            "7000/7000 [==============================] - 4s 531us/step - loss: 0.6237 - acc: 0.5993 - val_loss: 0.6525 - val_acc: 0.5689\n",
            "Epoch 99/100\n",
            "7000/7000 [==============================] - 4s 528us/step - loss: 0.6260 - acc: 0.5931 - val_loss: 0.6523 - val_acc: 0.5678\n",
            "Epoch 100/100\n",
            "7000/7000 [==============================] - 4s 529us/step - loss: 0.6258 - acc: 0.5950 - val_loss: 0.6498 - val_acc: 0.5746\n"
          ],
          "name": "stdout"
        }
      ]
    },
    {
      "metadata": {
        "id": "VmHBRWhRdPy4",
        "colab_type": "code",
        "outputId": "4edc0f48-21c0-4fb3-a225-a4efba05c403",
        "colab": {
          "base_uri": "https://localhost:8080/",
          "height": 232
        }
      },
      "cell_type": "code",
      "source": [
        "# plotting the metrics\n",
        "fig = plt.figure()\n",
        "plt.subplot(2,1,1)\n",
        "plt.plot(history.history['acc'])\n",
        "plt.plot(history.history['val_acc'])\n",
        "plt.title('model accuracy')\n",
        "plt.ylabel('accuracy')\n",
        "plt.xlabel('epoch')\n",
        "plt.legend(['train', 'test'], loc='lower right')\n",
        "\n",
        "plt.subplot(2,1,2)\n",
        "plt.plot(history.history['loss'])\n",
        "plt.plot(history.history['val_loss'])\n",
        "plt.title('model loss')\n",
        "plt.ylabel('loss')\n",
        "plt.xlabel('epoch')\n",
        "plt.legend(['train', 'test'], loc='upper right')\n",
        "\n",
        "plt.tight_layout()\n",
        "\n",
        "fig"
      ],
      "execution_count": 0,
      "outputs": [
        {
          "output_type": "error",
          "ename": "NameError",
          "evalue": "ignored",
          "traceback": [
            "\u001b[0;31m---------------------------------------------------------------------------\u001b[0m",
            "\u001b[0;31mNameError\u001b[0m                                 Traceback (most recent call last)",
            "\u001b[0;32m<ipython-input-1-63d8dc0e75e4>\u001b[0m in \u001b[0;36m<module>\u001b[0;34m()\u001b[0m\n\u001b[0;32m----> 1\u001b[0;31m \u001b[0mfig\u001b[0m \u001b[0;34m=\u001b[0m \u001b[0mplt\u001b[0m\u001b[0;34m.\u001b[0m\u001b[0mfigure\u001b[0m\u001b[0;34m(\u001b[0m\u001b[0;34m)\u001b[0m\u001b[0;34m\u001b[0m\u001b[0;34m\u001b[0m\u001b[0m\n\u001b[0m\u001b[1;32m      2\u001b[0m \u001b[0mplt\u001b[0m\u001b[0;34m.\u001b[0m\u001b[0msubplot\u001b[0m\u001b[0;34m(\u001b[0m\u001b[0;36m2\u001b[0m\u001b[0;34m,\u001b[0m\u001b[0;36m1\u001b[0m\u001b[0;34m,\u001b[0m\u001b[0;36m1\u001b[0m\u001b[0;34m)\u001b[0m\u001b[0;34m\u001b[0m\u001b[0;34m\u001b[0m\u001b[0m\n\u001b[1;32m      3\u001b[0m \u001b[0mplt\u001b[0m\u001b[0;34m.\u001b[0m\u001b[0mplot\u001b[0m\u001b[0;34m(\u001b[0m\u001b[0mhistory\u001b[0m\u001b[0;34m.\u001b[0m\u001b[0mhistory\u001b[0m\u001b[0;34m[\u001b[0m\u001b[0;34m'acc'\u001b[0m\u001b[0;34m]\u001b[0m\u001b[0;34m)\u001b[0m\u001b[0;34m\u001b[0m\u001b[0;34m\u001b[0m\u001b[0m\n\u001b[1;32m      4\u001b[0m \u001b[0mplt\u001b[0m\u001b[0;34m.\u001b[0m\u001b[0mplot\u001b[0m\u001b[0;34m(\u001b[0m\u001b[0mhistory\u001b[0m\u001b[0;34m.\u001b[0m\u001b[0mhistory\u001b[0m\u001b[0;34m[\u001b[0m\u001b[0;34m'val_acc'\u001b[0m\u001b[0;34m]\u001b[0m\u001b[0;34m)\u001b[0m\u001b[0;34m\u001b[0m\u001b[0;34m\u001b[0m\u001b[0m\n\u001b[1;32m      5\u001b[0m \u001b[0mplt\u001b[0m\u001b[0;34m.\u001b[0m\u001b[0mtitle\u001b[0m\u001b[0;34m(\u001b[0m\u001b[0;34m'model accuracy'\u001b[0m\u001b[0;34m)\u001b[0m\u001b[0;34m\u001b[0m\u001b[0;34m\u001b[0m\u001b[0m\n",
            "\u001b[0;31mNameError\u001b[0m: name 'plt' is not defined"
          ]
        }
      ]
    },
    {
      "metadata": {
        "id": "29KXySct9Rtx",
        "colab_type": "code",
        "outputId": "97a4e9de-5af6-4202-83d7-c6efde6f0153",
        "colab": {
          "base_uri": "https://localhost:8080/",
          "height": 51
        }
      },
      "cell_type": "code",
      "source": [
        "a,b = 0,0\n",
        "for i in range (len(X_test)):\n",
        "    if model.predict_classes(X_test[i].reshape(1, 1, 150,150))!=y_test[i]:\n",
        "        if y_test[i]==0:\n",
        "            a =a+1\n",
        "        elif y_test[i]==1:\n",
        "            b =b+1\n",
        "        \n",
        "        \n",
        "print(\"mislabeled 0\",a,\"times\") \n",
        "print(\"mislabeled 1\",b,\"times\")"
      ],
      "execution_count": 0,
      "outputs": [
        {
          "output_type": "stream",
          "text": [
            "mislabeled 0 1787 times\n",
            "mislabeled 1 170 times\n"
          ],
          "name": "stdout"
        }
      ]
    },
    {
      "metadata": {
        "id": "gMv0V8uu9RtY",
        "colab_type": "code",
        "outputId": "67611f1b-6c29-4d0d-f200-ddef21f17953",
        "colab": {
          "base_uri": "https://localhost:8080/",
          "height": 51
        }
      },
      "cell_type": "code",
      "source": [
        "score = model.evaluate(X_test, y_test_OH, verbose=0)\n",
        "print('Test loss:', score[0])\n",
        "print('Test accuracy:', score[1])"
      ],
      "execution_count": 0,
      "outputs": [
        {
          "output_type": "stream",
          "text": [
            "Test loss: 0.6497668393798497\n",
            "Test accuracy: 0.5745652172876441\n"
          ],
          "name": "stdout"
        }
      ]
    }
  ]
}